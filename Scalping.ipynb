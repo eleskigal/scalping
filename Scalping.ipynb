{
 "cells": [
  {
   "cell_type": "code",
   "execution_count": 2,
   "metadata": {},
   "outputs": [
    {
     "name": "stdout",
     "output_type": "stream",
     "text": [
      "[*********************100%***********************]  1 of 1 completed\n"
     ]
    },
    {
     "ename": "AttributeError",
     "evalue": "module 'talib' has no attribute 'momentum'",
     "output_type": "error",
     "traceback": [
      "\u001b[1;31m---------------------------------------------------------------------------\u001b[0m",
      "\u001b[1;31mAttributeError\u001b[0m                            Traceback (most recent call last)",
      "Cell \u001b[1;32mIn[2], line 34\u001b[0m\n\u001b[0;32m     31\u001b[0m df \u001b[39m=\u001b[39m df[[\u001b[39m'\u001b[39m\u001b[39mClose\u001b[39m\u001b[39m'\u001b[39m]]\n\u001b[0;32m     33\u001b[0m \u001b[39m# Calculate strategy\u001b[39;00m\n\u001b[1;32m---> 34\u001b[0m df \u001b[39m=\u001b[39m calculate_strategy(df)\n\u001b[0;32m     36\u001b[0m \u001b[39m# Plot PnL\u001b[39;00m\n\u001b[0;32m     37\u001b[0m plt\u001b[39m.\u001b[39mplot(df[\u001b[39m'\u001b[39m\u001b[39mCumPnL\u001b[39m\u001b[39m'\u001b[39m])\n",
      "Cell \u001b[1;32mIn[2], line 11\u001b[0m, in \u001b[0;36mcalculate_strategy\u001b[1;34m(df)\u001b[0m\n\u001b[0;32m      9\u001b[0m \u001b[39mdef\u001b[39;00m \u001b[39mcalculate_strategy\u001b[39m(df):\n\u001b[0;32m     10\u001b[0m     \u001b[39m# Calculate RSI and Bollinger Bands\u001b[39;00m\n\u001b[1;32m---> 11\u001b[0m     df[\u001b[39m'\u001b[39m\u001b[39mRSI\u001b[39m\u001b[39m'\u001b[39m] \u001b[39m=\u001b[39m ta\u001b[39m.\u001b[39;49mmomentum\u001b[39m.\u001b[39mRSIIndicator(df[\u001b[39m'\u001b[39m\u001b[39mClose\u001b[39m\u001b[39m'\u001b[39m])\u001b[39m.\u001b[39mrsi()\n\u001b[0;32m     12\u001b[0m     df[\u001b[39m'\u001b[39m\u001b[39mbb_up\u001b[39m\u001b[39m'\u001b[39m], df[\u001b[39m'\u001b[39m\u001b[39mbb_down\u001b[39m\u001b[39m'\u001b[39m] \u001b[39m=\u001b[39m ta\u001b[39m.\u001b[39mvolatility\u001b[39m.\u001b[39mBollingerBands(df[\u001b[39m'\u001b[39m\u001b[39mClose\u001b[39m\u001b[39m'\u001b[39m])\u001b[39m.\u001b[39mbollinger_mavg(window\u001b[39m=\u001b[39m\u001b[39m20\u001b[39m, window_dev\u001b[39m=\u001b[39m\u001b[39m2\u001b[39m)\n\u001b[0;32m     14\u001b[0m     \u001b[39m# Buy and sell signals\u001b[39;00m\n",
      "\u001b[1;31mAttributeError\u001b[0m: module 'talib' has no attribute 'momentum'"
     ]
    }
   ],
   "source": [
    "# Import libraries\n",
    "import pandas as pd\n",
    "import numpy as np\n",
    "import matplotlib.pyplot as plt\n",
    "import talib as ta\n",
    "import yfinance as yf\n",
    "from datetime import datetime\n",
    "\n",
    "def calculate_strategy(df):\n",
    "    # Calculate RSI and Bollinger Bands\n",
    "    df['RSI'] = ta.momentum.RSIIndicator(df['Close']).rsi()\n",
    "    df['bb_up'], df['bb_down'] = ta.volatility.BollingerBands(df['Close']).bollinger_mavg(window=20, window_dev=2)\n",
    "\n",
    "    # Buy and sell signals\n",
    "    df['Signal'] = np.where((df['RSI'] < 30) & (df['Close'] > df['bb_down']), 1, \n",
    "                            np.where((df['RSI'] > 70) & (df['Close'] < df['bb_up']), -1, 0))\n",
    "    df['Position'] = np.where(df['Signal'] == 1, 1, np.where(df['Signal'] == -1, -1, np.nan))\n",
    "    df['Position'].fillna(method='ffill', inplace=True)\n",
    "    df['Position'].fillna(0, inplace=True)\n",
    "\n",
    "    # Calculate PnL\n",
    "    df['PnL'] = (df['Close'] - df['Close'].shift(1)) * df['Position']\n",
    "    df['CumPnL'] = df['PnL'].cumsum()\n",
    "    \n",
    "    return df\n",
    "\n",
    "# Load data from Yahoo Finance\n",
    "ticker = \"BTC-USD\"\n",
    "end_date = datetime.today().strftime(\"%Y-%m-%d\")\n",
    "df = yf.download(ticker, start=\"2017-01-01\", end=end_date)\n",
    "df = df[['Close']]\n",
    "\n",
    "# Calculate strategy\n",
    "df = calculate_strategy(df)\n",
    "\n",
    "# Plot PnL\n",
    "plt.plot(df['CumPnL'])\n",
    "plt.xlabel('Date')\n",
    "plt.ylabel('Cumulative PnL')\n",
    "plt.title('Strategy PnL')\n",
    "plt.show()\n",
    "\n",
    "# Print signal table\n",
    "print(df[['Close', 'RSI', 'bb_down', 'bb_up', 'Signal']].tail(10))\n"
   ]
  }
 ],
 "metadata": {
  "kernelspec": {
   "display_name": "Python 3",
   "language": "python",
   "name": "python3"
  },
  "language_info": {
   "codemirror_mode": {
    "name": "ipython",
    "version": 3
   },
   "file_extension": ".py",
   "mimetype": "text/x-python",
   "name": "python",
   "nbconvert_exporter": "python",
   "pygments_lexer": "ipython3",
   "version": "3.10.9"
  },
  "orig_nbformat": 4,
  "vscode": {
   "interpreter": {
    "hash": "8ce50494ea7cc76a9288e4c2e91b4cbdca1654a364e446e917d12e609570f27d"
   }
  }
 },
 "nbformat": 4,
 "nbformat_minor": 2
}
